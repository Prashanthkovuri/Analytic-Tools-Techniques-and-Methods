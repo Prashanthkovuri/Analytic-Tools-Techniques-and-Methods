{
 "cells": [
  {
   "cell_type": "code",
   "execution_count": 26,
   "metadata": {},
   "outputs": [
    {
     "data": {
      "text/html": [
       "<table border=\"1\" class=\"dataframe\">\n",
       "    <thead>\n",
       "        <tr>\n",
       "            <th>Restaurant Name</th> <th>Zip Code</th> <th>Inspection Date</th> <th>Score</th> <th>Address</th>\n",
       "        </tr>\n",
       "    </thead>\n",
       "    <tbody>\n",
       "        <tr>\n",
       "            <td>6M Grocery     </td> <td>78652   </td> <td>01/17/2014     </td> <td>90   </td> <td>805 W FM 1626 RD\n",
       "AUSTIN, TX 78652\n",
       "     </td>\n",
       "        </tr>\n",
       "        <tr>\n",
       "            <td>6M Grocery     </td> <td>78652   </td> <td>04/27/2015     </td> <td>93   </td> <td>805 W FM 1626 RD\n",
       "AUSTIN, TX 78652\n",
       "     </td>\n",
       "        </tr>\n",
       "        <tr>\n",
       "            <td>6M Grocery     </td> <td>78652   </td> <td>05/02/2016     </td> <td>88   </td> <td>805 W FM 1626 RD\n",
       "AUSTIN, TX 78652\n",
       "     </td>\n",
       "        </tr>\n",
       "        <tr>\n",
       "            <td>6M Grocery     </td> <td>78652   </td> <td>07/25/2014     </td> <td>100  </td> <td>805 W FM 1626 RD\n",
       "AUSTIN, TX 78652\n",
       "     </td>\n",
       "        </tr>\n",
       "        <tr>\n",
       "            <td>6M Grocery     </td> <td>78652   </td> <td>10/21/2015     </td> <td>87   </td> <td>805 W FM 1626 RD\n",
       "AUSTIN, TX 78652\n",
       "     </td>\n",
       "        </tr>\n",
       "        <tr>\n",
       "            <td>6M Grocery     </td> <td>78652   </td> <td>12/15/2014     </td> <td>93   </td> <td>805 W FM 1626 RD\n",
       "AUSTIN, TX 78652\n",
       "     </td>\n",
       "        </tr>\n",
       "        <tr>\n",
       "            <td>7 Eleven #36575</td> <td>78660   </td> <td>01/25/2016     </td> <td>92   </td> <td>15829 N IH 35 SVRD NB\n",
       "AUSTIN, TX 78660\n",
       "</td>\n",
       "        </tr>\n",
       "        <tr>\n",
       "            <td>7 Eleven #36575</td> <td>78660   </td> <td>03/05/2015     </td> <td>86   </td> <td>15829 N IH 35 SVRD NB\n",
       "AUSTIN, TX 78660\n",
       "</td>\n",
       "        </tr>\n",
       "        <tr>\n",
       "            <td>7 Eleven #36575</td> <td>78660   </td> <td>03/14/2014     </td> <td>93   </td> <td>15829 N IH 35 SVRD NB\n",
       "AUSTIN, TX 78660\n",
       "</td>\n",
       "        </tr>\n",
       "        <tr>\n",
       "            <td>7 Eleven #36575</td> <td>78660   </td> <td>07/27/2015     </td> <td>97   </td> <td>15829 N IH 35 SVRD NB\n",
       "AUSTIN, TX 78660\n",
       "</td>\n",
       "        </tr>\n",
       "    </tbody>\n",
       "</table>\n",
       "<p>... (24357 rows omitted)</p>"
      ],
      "text/plain": [
       "Restaurant Name | Zip Code | Inspection Date | Score | Address\n",
       "6M Grocery      | 78652    | 01/17/2014      | 90    | 805 W FM 1626 RD\n",
       "AUSTIN, TX 78652\n",
       "6M Grocery      | 78652    | 04/27/2015      | 93    | 805 W FM 1626 RD\n",
       "AUSTIN, TX 78652\n",
       "6M Grocery      | 78652    | 05/02/2016      | 88    | 805 W FM 1626 RD\n",
       "AUSTIN, TX 78652\n",
       "6M Grocery      | 78652    | 07/25/2014      | 100   | 805 W FM 1626 RD\n",
       "AUSTIN, TX 78652\n",
       "6M Grocery      | 78652    | 10/21/2015      | 87    | 805 W FM 1626 RD\n",
       "AUSTIN, TX 78652\n",
       "6M Grocery      | 78652    | 12/15/2014      | 93    | 805 W FM 1626 RD\n",
       "AUSTIN, TX 78652\n",
       "7 Eleven #36575 | 78660    | 01/25/2016      | 92    | 15829 N IH 35 SVRD NB\n",
       "AUSTIN, TX 78660\n",
       "7 Eleven #36575 | 78660    | 03/05/2015      | 86    | 15829 N IH 35 SVRD NB\n",
       "AUSTIN, TX 78660\n",
       "7 Eleven #36575 | 78660    | 03/14/2014      | 93    | 15829 N IH 35 SVRD NB\n",
       "AUSTIN, TX 78660\n",
       "7 Eleven #36575 | 78660    | 07/27/2015      | 97    | 15829 N IH 35 SVRD NB\n",
       "AUSTIN, TX 78660\n",
       "... (24357 rows omitted)"
      ]
     },
     "execution_count": 26,
     "metadata": {},
     "output_type": "execute_result"
    }
   ],
   "source": [
    "import numpy as np\n",
    "from datascience import *\n",
    "import matplotlib.pyplot as plots\n",
    "plots.style.use('fivethirtyeight')\n",
    "%matplotlib inline\n",
    "dataset_rest = Table.read_table('restaurant_inspection_scores.csv').drop('Facility ID','Process Description')\n",
    "dataset_rest"
   ]
  },
  {
   "cell_type": "code",
   "execution_count": 27,
   "metadata": {},
   "outputs": [
    {
     "data": {
      "image/png": "[encoded data removed]",
      "text/plain": [
       "<Figure size 432x288 with 1 Axes>"
      ]
     },
     "metadata": {
      "needs_background": "light"
     },
     "output_type": "display_data"
    }
   ],
   "source": [
    "dataset_rest.hist('Score')"
   ]
  },
  {
   "cell_type": "code",
   "execution_count": 23,
   "metadata": {},
   "outputs": [
    {
     "data": {
      "text/plain": [
       "91.40706693478886"
      ]
     },
     "execution_count": 23,
     "metadata": {},
     "output_type": "execute_result"
    }
   ],
   "source": [
    "dataset_mean = np.mean(dataset_rest.column('Score'))\n",
    "dataset_mean"
   ]
  },
  {
   "cell_type": "code",
   "execution_count": 29,
   "metadata": {},
   "outputs": [
    {
     "data": {
      "text/html": [
       "<table border=\"1\" class=\"dataframe\">\n",
       "    <thead>\n",
       "        <tr>\n",
       "            <th>Restaurant Name</th> <th>Zip Code</th> <th>Inspection Date</th> <th>Score</th> <th>Address</th>\n",
       "        </tr>\n",
       "    </thead>\n",
       "    <tbody>\n",
       "        <tr>\n",
       "            <td>Cisco's Bakery & Coffee Shop      </td> <td>78702   </td> <td>09/11/2015     </td> <td>82   </td> <td>1511 E 6TH ST\n",
       "AUSTIN, TX 78702\n",
       "(30.263118, -97.726742)      </td>\n",
       "        </tr>\n",
       "        <tr>\n",
       "            <td>7-Eleven - Vaishnavi Food and Gas </td> <td>78704   </td> <td>08/14/2015     </td> <td>93   </td> <td>2820 S LAMAR BLVD\n",
       "AUSTIN, TX 78704\n",
       "(30.243623, -97.782285)  </td>\n",
       "        </tr>\n",
       "        <tr>\n",
       "            <td>Taco Bell                         </td> <td>78757   </td> <td>12/08/2015     </td> <td>90   </td> <td>7793 BURNET RD\n",
       "AUSTIN, TX 78757\n",
       "(30.354586, -97.731747)     </td>\n",
       "        </tr>\n",
       "        <tr>\n",
       "            <td>P. Terry's Burger Stand           </td> <td>78758   </td> <td>02/13/2015     </td> <td>92   </td> <td>12301 N MOPAC EXPY SVRD NB\n",
       "AUSTIN, TX 78758\n",
       "(30.414916,  ...</td>\n",
       "        </tr>\n",
       "        <tr>\n",
       "            <td>Foxy's Cabaret                    </td> <td>78728   </td> <td>11/02/2015     </td> <td>84   </td> <td>16328 N IH 35 SVRD SB\n",
       "AUSTIN, TX 78728\n",
       "(30.465101, -97.6 ...</td>\n",
       "        </tr>\n",
       "        <tr>\n",
       "            <td>C-Mart #10                        </td> <td>78748   </td> <td>02/12/2016     </td> <td>94   </td> <td>3008 W SLAUGHTER LN\n",
       "AUSTIN, TX 78748\n",
       "(30.179033, -97.840417)</td>\n",
       "        </tr>\n",
       "        <tr>\n",
       "            <td>KFC X743716                       </td> <td>78745   </td> <td>11/05/2013     </td> <td>97   </td> <td>801 E WILLIAM CANNON DR\n",
       "AUSTIN, TX 78745\n",
       "(30.191158, -97 ...</td>\n",
       "        </tr>\n",
       "        <tr>\n",
       "            <td>Golden Chick                      </td> <td>78758   </td> <td>07/31/2014     </td> <td>100  </td> <td>9600 N LAMAR BLVD\n",
       "AUSTIN, TX 78758\n",
       "(30.365513, -97.695635)  </td>\n",
       "        </tr>\n",
       "        <tr>\n",
       "            <td>Super 8 Motel                     </td> <td>78753   </td> <td>02/25/2016     </td> <td>85   </td> <td>8128 N IH 35 SVRD SB\n",
       "AUSTIN, TX 78753\n",
       "(30.343999, -97.69 ...</td>\n",
       "        </tr>\n",
       "        <tr>\n",
       "            <td>Longhorn Village - Skilled Nursing</td> <td>78732   </td> <td>10/02/2015     </td> <td>85   </td> <td>12001 LONGHORN PKWY\n",
       "AUSTIN, TX 78732\n",
       "(30.350762, -97.91176) </td>\n",
       "        </tr>\n",
       "    </tbody>\n",
       "</table>\n",
       "<p>... (90 rows omitted)</p>"
      ],
      "text/plain": [
       "Restaurant Name                    | Zip Code | Inspection Date | Score | Address\n",
       "Cisco's Bakery & Coffee Shop       | 78702    | 09/11/2015      | 82    | 1511 E 6TH ST\n",
       "AUSTIN, TX 78702\n",
       "(30.263118, -97.726742)\n",
       "7-Eleven - Vaishnavi Food and Gas  | 78704    | 08/14/2015      | 93    | 2820 S LAMAR BLVD\n",
       "AUSTIN, TX 78704\n",
       "(30.243623, -97.782285)\n",
       "Taco Bell                          | 78757    | 12/08/2015      | 90    | 7793 BURNET RD\n",
       "AUSTIN, TX 78757\n",
       "(30.354586, -97.731747)\n",
       "P. Terry's Burger Stand            | 78758    | 02/13/2015      | 92    | 12301 N MOPAC EXPY SVRD NB\n",
       "AUSTIN, TX 78758\n",
       "(30.414916,  ...\n",
       "Foxy's Cabaret                     | 78728    | 11/02/2015      | 84    | 16328 N IH 35 SVRD SB\n",
       "AUSTIN, TX 78728\n",
       "(30.465101, -97.6 ...\n",
       "C-Mart #10                         | 78748    | 02/12/2016      | 94    | 3008 W SLAUGHTER LN\n",
       "AUSTIN, TX 78748\n",
       "(30.179033, -97.840417)\n",
       "KFC X743716                        | 78745    | 11/05/2013      | 97    | 801 E WILLIAM CANNON DR\n",
       "AUSTIN, TX 78745\n",
       "(30.191158, -97 ...\n",
       "Golden Chick                       | 78758    | 07/31/2014      | 100   | 9600 N LAMAR BLVD\n",
       "AUSTIN, TX 78758\n",
       "(30.365513, -97.695635)\n",
       "Super 8 Motel                      | 78753    | 02/25/2016      | 85    | 8128 N IH 35 SVRD SB\n",
       "AUSTIN, TX 78753\n",
       "(30.343999, -97.69 ...\n",
       "Longhorn Village - Skilled Nursing | 78732    | 10/02/2015      | 85    | 12001 LONGHORN PKWY\n",
       "AUSTIN, TX 78732\n",
       "(30.350762, -97.91176)\n",
       "... (90 rows omitted)"
      ]
     },
     "execution_count": 29,
     "metadata": {},
     "output_type": "execute_result"
    }
   ],
   "source": [
    "restaurants_sample = dataset_rest.sample(100, with_replacement=False)\n",
    "restaurants_sample"
   ]
  },
  {
   "cell_type": "code",
   "execution_count": 30,
   "metadata": {},
   "outputs": [
    {
     "data": {
      "image/png": "[encoded data removed]",
      "text/plain": [
       "<Figure size 432x288 with 1 Axes>"
      ]
     },
     "metadata": {
      "needs_background": "light"
     },
     "output_type": "display_data"
    }
   ],
   "source": [
    "restaurants_sample.hist('Score')"
   ]
  },
  {
   "cell_type": "code",
   "execution_count": 31,
   "metadata": {},
   "outputs": [
    {
     "data": {
      "text/plain": [
       "91.22"
      ]
     },
     "execution_count": 31,
     "metadata": {},
     "output_type": "execute_result"
    }
   ],
   "source": [
    "sampleres_mean = np.mean(restaurants_sample.column('Score'))\n",
    "sampleres_mean"
   ]
  },
  {
   "cell_type": "code",
   "execution_count": 35,
   "metadata": {},
   "outputs": [
    {
     "data": {
      "text/plain": [
       "91.30533098042434"
      ]
     },
     "execution_count": 35,
     "metadata": {},
     "output_type": "execute_result"
    }
   ],
   "source": [
    "#Question 1\n",
    "\n",
    "def func_one_resampled_mean(data):\n",
    "    resampled_data = data.sample()\n",
    "    return np.mean(resampled_data.column('Score'))\n",
    "this_mean = func_one_resampled_mean(dataset_rest)\n",
    "this_mean"
   ]
  },
  {
   "cell_type": "code",
   "execution_count": 41,
   "metadata": {},
   "outputs": [
    {
     "data": {
      "text/plain": [
       "array([91.24, 90.85, 91.82, ..., 91.46, 91.87, 90.74])"
      ]
     },
     "execution_count": 41,
     "metadata": {},
     "output_type": "execute_result"
    }
   ],
   "source": [
    "#Question 2\n",
    "\n",
    "def bootstrap_scores():\n",
    "  resampled_means = np.array([])\n",
    "  for i in range(5000):\n",
    "    resampled_mean =func_one_resampled_mean(restaurants_sample)\n",
    "    resampled_means = np.append(resampled_mean, resampled_means)\n",
    "  return resampled_means\n",
    "resampled_means = bootstrap_scores()\n",
    "resampled_means\n"
   ]
  },
  {
   "cell_type": "code",
   "execution_count": 45,
   "metadata": {},
   "outputs": [
    {
     "data": {
      "text/plain": [
       "91.21568799999999"
      ]
     },
     "execution_count": 45,
     "metadata": {},
     "output_type": "execute_result"
    }
   ],
   "source": [
    "np.mean(resampled_means)"
   ]
  },
  {
   "cell_type": "code",
   "execution_count": 46,
   "metadata": {},
   "outputs": [
    {
     "data": {
      "text/plain": [
       "0.8744471205601858"
      ]
     },
     "execution_count": 46,
     "metadata": {},
     "output_type": "execute_result"
    }
   ],
   "source": [
    "np.std(resampled_means)"
   ]
  },
  {
   "cell_type": "code",
   "execution_count": 48,
   "metadata": {},
   "outputs": [
    {
     "data": {
      "image/png": "[encoded data removed]",
      "text/plain": [
       "<Figure size 432x288 with 1 Axes>"
      ]
     },
     "metadata": {
      "needs_background": "light"
     },
     "output_type": "display_data"
    }
   ],
   "source": [
    "Table().with_column('Resampled Means', resampled_means).hist()"
   ]
  },
  {
   "cell_type": "code",
   "execution_count": 49,
   "metadata": {},
   "outputs": [
    {
     "name": "stdout",
     "output_type": "stream",
     "text": [
      "95% confidence interval for the average restaurant score, computed by bootstrapping:\n",
      "( 89.44 , 92.86 )\n"
     ]
    }
   ],
   "source": [
    "#Question 3\n",
    "lower_bound = percentile(2.5,resampled_means)\n",
    "upper_bound = percentile(97.5,resampled_means)\n",
    "print(\"95% confidence interval for the average restaurant score, computed by bootstrapping:\\n(\",lower_bound, \",\", upper_bound, \")\")"
   ]
  },
  {
   "cell_type": "code",
   "execution_count": 51,
   "metadata": {},
   "outputs": [
    {
     "name": "stdout",
     "output_type": "stream",
     "text": [
      "95% confidence interval for the average restaurant score, computed by a normal approximation:\n",
      "( 90.22618327076104 , 93.29381672923897 )\n"
     ]
    }
   ],
   "source": [
    "#Question 6\n",
    "sample_mean = np.mean(restaurant_sample.column('Score'))\n",
    "sample_sd = np.std(restaurant_sample.column('Score'))\n",
    "sample_size = restaurant_sample.num_rows\n",
    "\n",
    "sd_of_means = np.std(dataset_rest.column('Score'))/np.sqrt(sample_size)\n",
    "lower_bound_normal = sample_mean - 2*sd_of_means\n",
    "upper_bound_normal = sample_mean + 2*sd_of_means\n",
    "print(\"95% confidence interval for the average restaurant score, computed by a normal approximation:\\n(\",lower_bound_normal, \",\", upper_bound_normal, \")\")"
   ]
  },
  {
   "cell_type": "code",
   "execution_count": 84,
   "metadata": {},
   "outputs": [],
   "source": [
    "#Testing the central limit theorem\n",
    "\n",
    "coin_proportions = make_array(.5, .5)\n",
    "\n",
    "def one_statistic_prop_heads(n):\n",
    "  simulated_proportions = sample_proportions(n,coin_proportions)\n",
    "  prop_heads = simulated_proportions[0]\n",
    "  return prop_heads"
   ]
  },
  {
   "cell_type": "code",
   "execution_count": 85,
   "metadata": {},
   "outputs": [
    {
     "data": {
      "text/plain": [
       "0.58"
      ]
     },
     "execution_count": 85,
     "metadata": {},
     "output_type": "execute_result"
    }
   ],
   "source": [
    "one_statistic_prop_heads(100)"
   ]
  },
  {
   "cell_type": "code",
   "execution_count": 86,
   "metadata": {},
   "outputs": [],
   "source": [
    "#Question 2.2\n",
    "def sample_size_n(n):\n",
    "    coin_proportions = make_array(.5, .5)\n",
    "    heads_proportions = make_array()\n",
    "    for i in np.arange(5000):\n",
    "        prop_heads = sample_proportions(n,coin_proportions)\n",
    "        heads_proportions = np.append(prop_heads,heads_proportions)\n",
    "    return heads_proportions"
   ]
  },
  {
   "cell_type": "code",
   "execution_count": 87,
   "metadata": {},
   "outputs": [
    {
     "data": {
      "text/plain": [
       "array([0.53, 0.47, 0.5 , ..., 0.34, 0.54, 0.46])"
      ]
     },
     "execution_count": 87,
     "metadata": {},
     "output_type": "execute_result"
    }
   ],
   "source": [
    "sample_size_n(100)"
   ]
  },
  {
   "cell_type": "code",
   "execution_count": 90,
   "metadata": {},
   "outputs": [
    {
     "data": {
      "text/html": [
       "<table border=\"1\" class=\"dataframe\">\n",
       "    <thead>\n",
       "        <tr>\n",
       "            <th>Date</th> <th>Flight Number</th> <th>Destination</th> <th>Delay</th>\n",
       "        </tr>\n",
       "    </thead>\n",
       "    <tbody>\n",
       "        <tr>\n",
       "            <td>6/1/15</td> <td>73           </td> <td>HNL        </td> <td>257  </td>\n",
       "        </tr>\n",
       "        <tr>\n",
       "            <td>6/1/15</td> <td>217          </td> <td>EWR        </td> <td>28   </td>\n",
       "        </tr>\n",
       "        <tr>\n",
       "            <td>6/1/15</td> <td>237          </td> <td>STL        </td> <td>-3   </td>\n",
       "        </tr>\n",
       "        <tr>\n",
       "            <td>6/1/15</td> <td>250          </td> <td>SAN        </td> <td>0    </td>\n",
       "        </tr>\n",
       "        <tr>\n",
       "            <td>6/1/15</td> <td>267          </td> <td>PHL        </td> <td>64   </td>\n",
       "        </tr>\n",
       "        <tr>\n",
       "            <td>6/1/15</td> <td>273          </td> <td>SEA        </td> <td>-6   </td>\n",
       "        </tr>\n",
       "        <tr>\n",
       "            <td>6/1/15</td> <td>278          </td> <td>SEA        </td> <td>-8   </td>\n",
       "        </tr>\n",
       "        <tr>\n",
       "            <td>6/1/15</td> <td>292          </td> <td>EWR        </td> <td>12   </td>\n",
       "        </tr>\n",
       "        <tr>\n",
       "            <td>6/1/15</td> <td>300          </td> <td>HNL        </td> <td>20   </td>\n",
       "        </tr>\n",
       "        <tr>\n",
       "            <td>6/1/15</td> <td>317          </td> <td>IND        </td> <td>-10  </td>\n",
       "        </tr>\n",
       "    </tbody>\n",
       "</table>\n",
       "<p>... (13815 rows omitted)</p>"
      ],
      "text/plain": [
       "Date   | Flight Number | Destination | Delay\n",
       "6/1/15 | 73            | HNL         | 257\n",
       "6/1/15 | 217           | EWR         | 28\n",
       "6/1/15 | 237           | STL         | -3\n",
       "6/1/15 | 250           | SAN         | 0\n",
       "6/1/15 | 267           | PHL         | 64\n",
       "6/1/15 | 273           | SEA         | -6\n",
       "6/1/15 | 278           | SEA         | -8\n",
       "6/1/15 | 292           | EWR         | 12\n",
       "6/1/15 | 300           | HNL         | 20\n",
       "6/1/15 | 317           | IND         | -10\n",
       "... (13815 rows omitted)"
      ]
     },
     "execution_count": 90,
     "metadata": {},
     "output_type": "execute_result"
    }
   ],
   "source": [
    "# Question 3\n",
    "united = Table.read_table('united_summer2015.csv')\n",
    "united"
   ]
  },
  {
   "cell_type": "code",
   "execution_count": 91,
   "metadata": {},
   "outputs": [
    {
     "data": {
      "text/plain": [
       "39.480199851609314"
      ]
     },
     "execution_count": 91,
     "metadata": {},
     "output_type": "execute_result"
    }
   ],
   "source": [
    "united_std = np.std(united.column('Delay'))\n",
    "united_std"
   ]
  },
  {
   "cell_type": "code",
   "execution_count": 93,
   "metadata": {},
   "outputs": [
    {
     "data": {
      "text/plain": [
       "11.92319577797832"
      ]
     },
     "execution_count": 93,
     "metadata": {},
     "output_type": "execute_result"
    }
   ],
   "source": [
    "def empirical_sample_mean_sd(n):\n",
    "    sample_means = make_array()\n",
    "    for i in np.arange(500):\n",
    "        sample = united.sample(n, with_replacement = True)\n",
    "        sample_mean = np.mean(sample.column('Delay'))\n",
    "        sample_means = np.append(sample_mean, sample_means)\n",
    "    return np.std(sample_means)\n",
    "empirical_sample_mean_sd(10)"
   ]
  },
  {
   "cell_type": "code",
   "execution_count": 96,
   "metadata": {},
   "outputs": [
    {
     "data": {
      "text/plain": [
       "12.484735400972708"
      ]
     },
     "execution_count": 96,
     "metadata": {},
     "output_type": "execute_result"
    }
   ],
   "source": [
    "#Question 4\n",
    "\n",
    "def predict_sample_mean_sd(n):\n",
    " return np.std(united.column('Delay'))/np.sqrt(n)\n",
    "predict_sample_mean_sd(10)"
   ]
  }
 ],
 "metadata": {
  "kernelspec": {
   "display_name": "Python 3",
   "language": "python",
   "name": "python3"
  },
  "language_info": {
   "codemirror_mode": {
    "name": "ipython",
    "version": 3
   },
   "file_extension": ".py",
   "mimetype": "text/x-python",
   "name": "python",
   "nbconvert_exporter": "python",
   "pygments_lexer": "ipython3",
   "version": "3.8.3"
  }
 },
 "nbformat": 4,
 "nbformat_minor": 4
}
