{
 "cells": [
  {
   "cell_type": "code",
   "execution_count": 0,
   "metadata": {
    "colab": {},
    "colab_type": "code",
    "id": "MN382qTfrxcL"
   },
   "outputs": [],
   "source": [
    "import pycountry_convert as pc\n",
    "import numpy as np\n",
    "\n",
    "def country_to_continent(country_name):\n",
    "    country_row = pc.country_name_to_country_alpha2(country_name)\n",
    "    country_continent_code = pc.country_alpha2_to_continent_code(country_row)\n",
    "    country_continent_name = pc.convert_continent_code_to_continent_name(country_continent_code)\n",
    "    return country_continent_name\n",
    "\n",
    "data_reader = Table.read_table('Assignment2_Datafile.csv')\n",
    "data_reader = data_reader.relabeled('Estimated HIV Prevalence% - (Ages 15-49)','Country - HIV %')\n",
    "\n",
    "pandas_DF = data_reader.to_df()\n",
    "pandas_DF.dropna(axis=0,how='all',subset=['1979','1980','1981','1982','1983','1984','1985','1986','1987','1988','1989',\n",
    "                                        '1990','1991','1992','1993','1994','1995','1996','1997','1998','1999',\n",
    "                                        '2000','2001','2002','2003','2004','2005','2006','2007','2008','2009','2010','2011'],inplace=True)\n",
    "pandas_DF.dropna(axis=1, how='all',inplace=True)\n",
    "data_reader = Table.from_df(pandas_DF)\n",
    "\n",
    "data_reader.append_column('Continents',data_reader.apply(country_to_continent,0))\n",
    "data_reader.move_to_start('Continents')\n",
    "data_reader.to_csv('continents_res.csv')\n",
    "\n"
   ]
  },
  {
   "cell_type": "code",
   "execution_count": 0,
   "metadata": {
    "colab": {},
    "colab_type": "code",
    "id": "I1ZwfqrODblD"
   },
   "outputs": [],
   "source": [
    "import numpy as np\n",
    "%matplotlib inline\n",
    "import matplotlib.pyplot as plots"
   ]
  }
 ],
 "metadata": {
  "colab": {
   "authorship_tag": "ABX9TyO6s3Qt4JRAAWg3w4eJFwsx",
   "collapsed_sections": [],
   "name": "assgnmt2_q1.ipynb",
   "provenance": []
  },
  "kernelspec": {
   "display_name": "Python 3",
   "language": "python",
   "name": "python3"
  },
  "language_info": {
   "codemirror_mode": {
    "name": "ipython",
    "version": 3
   },
   "file_extension": ".py",
   "mimetype": "text/x-python",
   "name": "python",
   "nbconvert_exporter": "python",
   "pygments_lexer": "ipython3",
   "version": "3.8.1"
  }
 },
 "nbformat": 4,
 "nbformat_minor": 1
}
